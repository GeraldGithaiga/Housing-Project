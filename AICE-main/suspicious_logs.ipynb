{
 "cells": [
  {
   "cell_type": "code",
   "execution_count": 1,
   "metadata": {},
   "outputs": [],
   "source": [
    "import pandas as pd\n",
    "import matplotlib.pyplot as plt\n",
    "import seaborn as sns"
   ]
  },
  {
   "cell_type": "code",
   "execution_count": 2,
   "metadata": {},
   "outputs": [
    {
     "data": {
      "text/html": [
       "<div>\n",
       "<style scoped>\n",
       "    .dataframe tbody tr th:only-of-type {\n",
       "        vertical-align: middle;\n",
       "    }\n",
       "\n",
       "    .dataframe tbody tr th {\n",
       "        vertical-align: top;\n",
       "    }\n",
       "\n",
       "    .dataframe thead th {\n",
       "        text-align: right;\n",
       "    }\n",
       "</style>\n",
       "<table border=\"1\" class=\"dataframe\">\n",
       "  <thead>\n",
       "    <tr style=\"text-align: right;\">\n",
       "      <th></th>\n",
       "      <th>IP</th>\n",
       "      <th>Date_Time</th>\n",
       "      <th>Request_Type</th>\n",
       "      <th>API</th>\n",
       "      <th>Status_Code</th>\n",
       "      <th>Byte</th>\n",
       "      <th>Referrer</th>\n",
       "      <th>UA_String</th>\n",
       "      <th>Response_Time</th>\n",
       "    </tr>\n",
       "  </thead>\n",
       "  <tbody>\n",
       "    <tr>\n",
       "      <th>0</th>\n",
       "      <td>233.223.117.90</td>\n",
       "      <td>27/Dec/2037:12:00:00 +0530</td>\n",
       "      <td>DELETE</td>\n",
       "      <td>/usr/admin</td>\n",
       "      <td>502</td>\n",
       "      <td>4963</td>\n",
       "      <td>-</td>\n",
       "      <td>Mozilla/5.0 (Windows NT 10.0; Win64; x64) Appl...</td>\n",
       "      <td>45</td>\n",
       "    </tr>\n",
       "    <tr>\n",
       "      <th>1</th>\n",
       "      <td>162.253.4.179</td>\n",
       "      <td>27/Dec/2037:12:00:00 +0530</td>\n",
       "      <td>GET</td>\n",
       "      <td>/usr/admin/developer</td>\n",
       "      <td>200</td>\n",
       "      <td>5041</td>\n",
       "      <td>http://www.parker-miller.org/tag/list/list/pri...</td>\n",
       "      <td>Mozilla/5.0 (Windows NT 10.0; Win64; x64) Appl...</td>\n",
       "      <td>3885</td>\n",
       "    </tr>\n",
       "    <tr>\n",
       "      <th>2</th>\n",
       "      <td>252.156.232.172</td>\n",
       "      <td>27/Dec/2037:12:00:00 +0530</td>\n",
       "      <td>POST</td>\n",
       "      <td>/usr/register</td>\n",
       "      <td>404</td>\n",
       "      <td>5028</td>\n",
       "      <td>-</td>\n",
       "      <td>Mozilla/5.0 (Windows NT 10.0; Win64; x64) Appl...</td>\n",
       "      <td>3350</td>\n",
       "    </tr>\n",
       "    <tr>\n",
       "      <th>3</th>\n",
       "      <td>182.215.249.159</td>\n",
       "      <td>27/Dec/2037:12:00:00 +0530</td>\n",
       "      <td>PUT</td>\n",
       "      <td>/usr/register</td>\n",
       "      <td>304</td>\n",
       "      <td>4936</td>\n",
       "      <td>http://www.parker-miller.org/tag/list/list/pri...</td>\n",
       "      <td>Mozilla/5.0 (Android 10; Mobile; rv:84.0) Geck...</td>\n",
       "      <td>767</td>\n",
       "    </tr>\n",
       "    <tr>\n",
       "      <th>4</th>\n",
       "      <td>160.36.208.51</td>\n",
       "      <td>27/Dec/2037:12:00:00 +0530</td>\n",
       "      <td>POST</td>\n",
       "      <td>/usr</td>\n",
       "      <td>304</td>\n",
       "      <td>4979</td>\n",
       "      <td>http://www.parker-miller.org/tag/list/list/pri...</td>\n",
       "      <td>Mozilla/5.0 (Linux; Android 10; ONEPLUS A6000)...</td>\n",
       "      <td>84</td>\n",
       "    </tr>\n",
       "  </tbody>\n",
       "</table>\n",
       "</div>"
      ],
      "text/plain": [
       "                IP                   Date_Time Request_Type  \\\n",
       "0   233.223.117.90  27/Dec/2037:12:00:00 +0530       DELETE   \n",
       "1    162.253.4.179  27/Dec/2037:12:00:00 +0530          GET   \n",
       "2  252.156.232.172  27/Dec/2037:12:00:00 +0530         POST   \n",
       "3  182.215.249.159  27/Dec/2037:12:00:00 +0530          PUT   \n",
       "4    160.36.208.51  27/Dec/2037:12:00:00 +0530         POST   \n",
       "\n",
       "                    API  Status_Code  Byte  \\\n",
       "0            /usr/admin          502  4963   \n",
       "1  /usr/admin/developer          200  5041   \n",
       "2         /usr/register          404  5028   \n",
       "3         /usr/register          304  4936   \n",
       "4                  /usr          304  4979   \n",
       "\n",
       "                                            Referrer  \\\n",
       "0                                                  -   \n",
       "1  http://www.parker-miller.org/tag/list/list/pri...   \n",
       "2                                                  -   \n",
       "3  http://www.parker-miller.org/tag/list/list/pri...   \n",
       "4  http://www.parker-miller.org/tag/list/list/pri...   \n",
       "\n",
       "                                           UA_String  Response_Time  \n",
       "0  Mozilla/5.0 (Windows NT 10.0; Win64; x64) Appl...             45  \n",
       "1  Mozilla/5.0 (Windows NT 10.0; Win64; x64) Appl...           3885  \n",
       "2  Mozilla/5.0 (Windows NT 10.0; Win64; x64) Appl...           3350  \n",
       "3  Mozilla/5.0 (Android 10; Mobile; rv:84.0) Geck...            767  \n",
       "4  Mozilla/5.0 (Linux; Android 10; ONEPLUS A6000)...             84  "
      ]
     },
     "execution_count": 2,
     "metadata": {},
     "output_type": "execute_result"
    }
   ],
   "source": [
    "df = pd.read_excel(r\"C:\\Users\\User\\Downloads\\parsed_log_data.xlsx\")\n",
    "df.head()"
   ]
  },
  {
   "cell_type": "code",
   "execution_count": 3,
   "metadata": {},
   "outputs": [
    {
     "data": {
      "text/plain": [
       "IP               0\n",
       "Date_Time        0\n",
       "Request_Type     0\n",
       "API              0\n",
       "Status_Code      0\n",
       "Byte             0\n",
       "Referrer         0\n",
       "UA_String        0\n",
       "Response_Time    0\n",
       "dtype: int64"
      ]
     },
     "execution_count": 3,
     "metadata": {},
     "output_type": "execute_result"
    }
   ],
   "source": [
    "df.isna().sum()"
   ]
  },
  {
   "cell_type": "code",
   "execution_count": 4,
   "metadata": {},
   "outputs": [
    {
     "name": "stdout",
     "output_type": "stream",
     "text": [
      "<class 'pandas.core.frame.DataFrame'>\n",
      "RangeIndex: 407327 entries, 0 to 407326\n",
      "Data columns (total 9 columns):\n",
      " #   Column         Non-Null Count   Dtype \n",
      "---  ------         --------------   ----- \n",
      " 0   IP             407327 non-null  object\n",
      " 1   Date_Time      407327 non-null  object\n",
      " 2   Request_Type   407327 non-null  object\n",
      " 3   API            407327 non-null  object\n",
      " 4   Status_Code    407327 non-null  int64 \n",
      " 5   Byte           407327 non-null  int64 \n",
      " 6   Referrer       407327 non-null  object\n",
      " 7   UA_String      407327 non-null  object\n",
      " 8   Response_Time  407327 non-null  int64 \n",
      "dtypes: int64(3), object(6)\n",
      "memory usage: 28.0+ MB\n"
     ]
    }
   ],
   "source": [
    "df.info()"
   ]
  },
  {
   "cell_type": "code",
   "execution_count": 5,
   "metadata": {},
   "outputs": [
    {
     "data": {
      "text/plain": [
       "IP               407299\n",
       "Date_Time             1\n",
       "Request_Type          4\n",
       "API                   5\n",
       "Status_Code           7\n",
       "Byte                423\n",
       "Referrer              2\n",
       "UA_String            10\n",
       "Response_Time      5000\n",
       "dtype: int64"
      ]
     },
     "execution_count": 5,
     "metadata": {},
     "output_type": "execute_result"
    }
   ],
   "source": [
    "df.nunique()"
   ]
  },
  {
   "cell_type": "code",
   "execution_count": 6,
   "metadata": {},
   "outputs": [
    {
     "data": {
      "text/html": [
       "<div>\n",
       "<style scoped>\n",
       "    .dataframe tbody tr th:only-of-type {\n",
       "        vertical-align: middle;\n",
       "    }\n",
       "\n",
       "    .dataframe tbody tr th {\n",
       "        vertical-align: top;\n",
       "    }\n",
       "\n",
       "    .dataframe thead th {\n",
       "        text-align: right;\n",
       "    }\n",
       "</style>\n",
       "<table border=\"1\" class=\"dataframe\">\n",
       "  <thead>\n",
       "    <tr style=\"text-align: right;\">\n",
       "      <th></th>\n",
       "      <th>Status_Code</th>\n",
       "      <th>Byte</th>\n",
       "      <th>Response_Time</th>\n",
       "    </tr>\n",
       "  </thead>\n",
       "  <tbody>\n",
       "    <tr>\n",
       "      <th>count</th>\n",
       "      <td>407327.000000</td>\n",
       "      <td>407327.000000</td>\n",
       "      <td>407327.000000</td>\n",
       "    </tr>\n",
       "    <tr>\n",
       "      <th>mean</th>\n",
       "      <td>373.753181</td>\n",
       "      <td>4999.465503</td>\n",
       "      <td>2499.562455</td>\n",
       "    </tr>\n",
       "    <tr>\n",
       "      <th>std</th>\n",
       "      <td>103.039086</td>\n",
       "      <td>49.963237</td>\n",
       "      <td>1440.750265</td>\n",
       "    </tr>\n",
       "    <tr>\n",
       "      <th>min</th>\n",
       "      <td>200.000000</td>\n",
       "      <td>4764.000000</td>\n",
       "      <td>1.000000</td>\n",
       "    </tr>\n",
       "    <tr>\n",
       "      <th>25%</th>\n",
       "      <td>303.000000</td>\n",
       "      <td>4966.000000</td>\n",
       "      <td>1255.000000</td>\n",
       "    </tr>\n",
       "    <tr>\n",
       "      <th>50%</th>\n",
       "      <td>403.000000</td>\n",
       "      <td>5000.000000</td>\n",
       "      <td>2502.000000</td>\n",
       "    </tr>\n",
       "    <tr>\n",
       "      <th>75%</th>\n",
       "      <td>500.000000</td>\n",
       "      <td>5033.000000</td>\n",
       "      <td>3745.000000</td>\n",
       "    </tr>\n",
       "    <tr>\n",
       "      <th>max</th>\n",
       "      <td>502.000000</td>\n",
       "      <td>5233.000000</td>\n",
       "      <td>5000.000000</td>\n",
       "    </tr>\n",
       "  </tbody>\n",
       "</table>\n",
       "</div>"
      ],
      "text/plain": [
       "         Status_Code           Byte  Response_Time\n",
       "count  407327.000000  407327.000000  407327.000000\n",
       "mean      373.753181    4999.465503    2499.562455\n",
       "std       103.039086      49.963237    1440.750265\n",
       "min       200.000000    4764.000000       1.000000\n",
       "25%       303.000000    4966.000000    1255.000000\n",
       "50%       403.000000    5000.000000    2502.000000\n",
       "75%       500.000000    5033.000000    3745.000000\n",
       "max       502.000000    5233.000000    5000.000000"
      ]
     },
     "execution_count": 6,
     "metadata": {},
     "output_type": "execute_result"
    }
   ],
   "source": [
    "df.describe()"
   ]
  },
  {
   "cell_type": "markdown",
   "metadata": {},
   "source": [
    "Common criteria for identifying suspicious activities in web server logs might include:\n",
    "\n",
    "Unusually high frequency of requests from a single IP address.\n",
    "Requests to APIs that are not commonly accessed.\n",
    "Abnormally high or low byte sizes.\n",
    "Uncommon referrers or user agents.\n",
    "High response times.\n",
    "Unusual status codes (e.g., a large number of 500-series errors)."
   ]
  },
  {
   "cell_type": "code",
   "execution_count": 7,
   "metadata": {},
   "outputs": [],
   "source": [
    "datetime_format = '%d/%b/%Y:%H:%M:%S %z'\n",
    "df['Date_Time'] = pd.to_datetime(df['Date_Time'], format=datetime_format, errors='coerce')"
   ]
  },
  {
   "cell_type": "code",
   "execution_count": 31,
   "metadata": {},
   "outputs": [
    {
     "data": {
      "text/plain": [
       "Date_Time\n",
       "2037-12-27 12:00:00+05:30    407327\n",
       "Name: count, dtype: int64"
      ]
     },
     "execution_count": 31,
     "metadata": {},
     "output_type": "execute_result"
    }
   ],
   "source": []
  },
  {
   "cell_type": "code",
   "execution_count": 8,
   "metadata": {},
   "outputs": [
    {
     "data": {
      "text/plain": [
       "request_count\n",
       "1    407271\n",
       "2        56\n",
       "Name: count, dtype: int64"
      ]
     },
     "execution_count": 8,
     "metadata": {},
     "output_type": "execute_result"
    }
   ],
   "source": [
    "df['request_count'] = df.groupby('IP')['IP'].transform('count')\n",
    "df['request_count'].value_counts()"
   ]
  },
  {
   "cell_type": "code",
   "execution_count": 9,
   "metadata": {},
   "outputs": [],
   "source": [
    "api_counts = df['API'].value_counts()\n",
    "df['api_frequency'] = df['API'].map(api_counts)\n"
   ]
  },
  {
   "cell_type": "code",
   "execution_count": 10,
   "metadata": {},
   "outputs": [],
   "source": [
    "\n",
    "response_time_threshold = df['Response_Time'].quantile(0.99)\n",
    "df['high_response_time'] = df['Response_Time'] > response_time_threshold\n",
    "byte_99th = df['Byte'].quantile(0.95)\n",
    "df['abnormal_byte'] = df['Byte'] > byte_99th\n",
    "error_status_codes = [400, 401, 403, 404, 500, 502, 503, 504]\n",
    "df['error_status_code'] = df['Status_Code'].isin(error_status_codes)"
   ]
  },
  {
   "cell_type": "code",
   "execution_count": 11,
   "metadata": {},
   "outputs": [],
   "source": [
    "common_referrers = df['Referrer'].value_counts().index[:10]  # Top 10 referrers\n",
    "common_user_agents = df['UA_String'].value_counts().index[:10]  # Top 10 user agents\n",
    "\n",
    "df['uncommon_referrer'] = ~df['Referrer'].isin(common_referrers)\n",
    "df['uncommon_user_agent'] = ~df['UA_String'].isin(common_user_agents)"
   ]
  },
  {
   "cell_type": "code",
   "execution_count": 12,
   "metadata": {},
   "outputs": [],
   "source": [
    "# Suspcious activities by response time and bytes\n",
    "# df['suspicious'] = 0\n",
    "# df.loc[(df['Response_Time'] > response_time_threshold) | (df['Byte'] > byte_99th), 'suspicious'] = 1\n",
    "\n",
    "# df['suspicious'].value_counts()"
   ]
  },
  {
   "cell_type": "code",
   "execution_count": 13,
   "metadata": {},
   "outputs": [],
   "source": [
    "# using STD\n",
    "# Calculate the mean and standard deviation of the response time\n",
    "# response_time_mean = df['Response_Time'].mean()\n",
    "# response_time_std = df['Response_Time'].std()\n",
    "\n",
    "# # Set the threshold as mean + 2 standard deviations\n",
    "# response_time_threshold = response_time_mean + 2 * response_time_std\n",
    "# df['suspicious'] = 0\n",
    "# df.loc[df['Response_Time'] > response_time_threshold, 'suspicious'] = 1\n",
    "\n",
    "# (df['suspicious'].value_counts())"
   ]
  },
  {
   "cell_type": "code",
   "execution_count": 14,
   "metadata": {},
   "outputs": [],
   "source": [
    "# print(f\"High request count: {(df['request_count'] > response_time_threshold).sum()}\")\n",
    "# print(f\"Low API frequency: {(df['api_frequency'] < df['api_frequency'].quantile(0.01)).sum()}\")\n",
    "# print(f\"Abnormal byte size: {df['abnormal_byte'].sum()}\")\n",
    "# print(f\"Uncommon referrer: {df['uncommon_referrer'].sum()}\")\n",
    "# print(f\"Uncommon user agent: {df['uncommon_user_agent'].sum()}\")\n",
    "# print(f\"High response time: {df['high_response_time'].sum()}\")\n",
    "# print(f\"Error status code: {df['error_status_code'].sum()}\")"
   ]
  },
  {
   "cell_type": "code",
   "execution_count": 15,
   "metadata": {},
   "outputs": [
    {
     "data": {
      "text/plain": [
       "suspicious\n",
       "0    404872\n",
       "1      2455\n",
       "Name: count, dtype: int64"
      ]
     },
     "execution_count": 15,
     "metadata": {},
     "output_type": "execute_result"
    }
   ],
   "source": [
    "df['suspicious'] = (\n",
    "    (df['request_count'] > df['request_count'].quantile(0.99)) &\n",
    "    (df['api_frequency'] < df['api_frequency'].quantile(0.01)) |\n",
    "    \n",
    "    (df['uncommon_referrer']) &\n",
    "    (df['uncommon_user_agent']) |\n",
    "    (df['abnormal_byte']) & (df['high_response_time']) |\n",
    "    (df['error_status_code']) & (df['high_response_time']) \n",
    ").astype(int)\n",
    "df['suspicious'].value_counts()"
   ]
  },
  {
   "cell_type": "markdown",
   "metadata": {},
   "source": [
    "## Data Training and Model creation"
   ]
  },
  {
   "cell_type": "markdown",
   "metadata": {},
   "source": [
    "### Random Forest Model creation"
   ]
  },
  {
   "cell_type": "code",
   "execution_count": 23,
   "metadata": {},
   "outputs": [],
   "source": [
    "from sklearn.model_selection import train_test_split\n",
    "from sklearn.preprocessing import StandardScaler, OneHotEncoder\n",
    "from sklearn.compose import ColumnTransformer\n",
    "from sklearn.pipeline import Pipeline\n",
    "from sklearn.ensemble import RandomForestClassifier\n",
    "from sklearn.metrics import classification_report\n",
    "from imblearn.over_sampling import SMOTE"
   ]
  },
  {
   "cell_type": "code",
   "execution_count": 17,
   "metadata": {},
   "outputs": [],
   "source": [
    "# Select features and target\n",
    "X = df.drop(['suspicious', 'Date_Time'], axis=1)\n",
    "y = df['suspicious']"
   ]
  },
  {
   "cell_type": "code",
   "execution_count": 18,
   "metadata": {},
   "outputs": [],
   "source": [
    "numerical_features = X.select_dtypes(include=['int64', 'float64']).columns\n",
    "categorical_features = X.select_dtypes(include=['object']).columns"
   ]
  },
  {
   "cell_type": "code",
   "execution_count": 19,
   "metadata": {},
   "outputs": [],
   "source": [
    "preprocessor = ColumnTransformer(\n",
    "    transformers=[\n",
    "        ('num', StandardScaler(), numerical_features),\n",
    "        ('cat', OneHotEncoder(handle_unknown='ignore'), categorical_features)\n",
    "    ])"
   ]
  },
  {
   "cell_type": "code",
   "execution_count": 20,
   "metadata": {},
   "outputs": [],
   "source": [
    "pipeline = Pipeline(steps=[('preprocessor', preprocessor),\n",
    "                           ('classifier', RandomForestClassifier(random_state=42, n_estimators=100, max_depth=10, n_jobs=-1))])"
   ]
  },
  {
   "cell_type": "code",
   "execution_count": 21,
   "metadata": {},
   "outputs": [
    {
     "name": "stdout",
     "output_type": "stream",
     "text": [
      "              precision    recall  f1-score   support\n",
      "\n",
      "           0       0.99      1.00      1.00     80938\n",
      "           1       0.00      0.00      0.00       528\n",
      "\n",
      "    accuracy                           0.99     81466\n",
      "   macro avg       0.50      0.50      0.50     81466\n",
      "weighted avg       0.99      0.99      0.99     81466\n",
      "\n"
     ]
    },
    {
     "name": "stderr",
     "output_type": "stream",
     "text": [
      "C:\\Users\\User\\AppData\\Local\\Packages\\PythonSoftwareFoundation.Python.3.12_qbz5n2kfra8p0\\LocalCache\\local-packages\\Python312\\site-packages\\sklearn\\metrics\\_classification.py:1509: UndefinedMetricWarning: Precision is ill-defined and being set to 0.0 in labels with no predicted samples. Use `zero_division` parameter to control this behavior.\n",
      "  _warn_prf(average, modifier, f\"{metric.capitalize()} is\", len(result))\n",
      "C:\\Users\\User\\AppData\\Local\\Packages\\PythonSoftwareFoundation.Python.3.12_qbz5n2kfra8p0\\LocalCache\\local-packages\\Python312\\site-packages\\sklearn\\metrics\\_classification.py:1509: UndefinedMetricWarning: Precision is ill-defined and being set to 0.0 in labels with no predicted samples. Use `zero_division` parameter to control this behavior.\n",
      "  _warn_prf(average, modifier, f\"{metric.capitalize()} is\", len(result))\n",
      "C:\\Users\\User\\AppData\\Local\\Packages\\PythonSoftwareFoundation.Python.3.12_qbz5n2kfra8p0\\LocalCache\\local-packages\\Python312\\site-packages\\sklearn\\metrics\\_classification.py:1509: UndefinedMetricWarning: Precision is ill-defined and being set to 0.0 in labels with no predicted samples. Use `zero_division` parameter to control this behavior.\n",
      "  _warn_prf(average, modifier, f\"{metric.capitalize()} is\", len(result))\n"
     ]
    }
   ],
   "source": [
    "X_train, X_test, y_train, y_test = train_test_split(X, y, test_size=0.2, random_state=42)\n",
    "\n",
    "# Train the model\n",
    "pipeline.fit(X_train, y_train)\n",
    "\n",
    "# Predict and evaluate the model\n",
    "y_pred = pipeline.predict(X_test)\n",
    "classification_report(y_test, y_pred)"
   ]
  },
  {
   "cell_type": "markdown",
   "metadata": {},
   "source": [
    "### Balancing Unbalanced Code"
   ]
  },
  {
   "cell_type": "code",
   "execution_count": 25,
   "metadata": {},
   "outputs": [
    {
     "name": "stdout",
     "output_type": "stream",
     "text": [
      "              precision    recall  f1-score   support\n",
      "\n",
      "           0       1.00      1.00      1.00     80938\n",
      "           1       0.74      0.99      0.85       528\n",
      "\n",
      "    accuracy                           1.00     81466\n",
      "   macro avg       0.87      1.00      0.92     81466\n",
      "weighted avg       1.00      1.00      1.00     81466\n",
      "\n"
     ]
    }
   ],
   "source": [
    "# Select features and target\n",
    "X = df.drop(['suspicious', 'Date_Time'], axis=1)\n",
    "y = df['suspicious']\n",
    "\n",
    "# Split data into training and testing sets\n",
    "X_train, X_test, y_train, y_test = train_test_split(X, y, test_size=0.2, random_state=42)\n",
    "\n",
    "# Preprocess categorical features with OneHotEncoder\n",
    "categorical_features = X.select_dtypes(include=['object']).columns\n",
    "numerical_features = X.select_dtypes(include=['int64', 'float64']).columns\n",
    "\n",
    "# Preprocess the data\n",
    "preprocessor = ColumnTransformer(\n",
    "    transformers=[\n",
    "        ('num', StandardScaler(), numerical_features),\n",
    "        ('cat', OneHotEncoder(handle_unknown='ignore'), categorical_features)\n",
    "    ])\n",
    "\n",
    "# Fit and transform the training data\n",
    "X_train_encoded = preprocessor.fit_transform(X_train)\n",
    "X_test_encoded = preprocessor.transform(X_test)\n",
    "\n",
    "# Apply SMOTE to oversample the minority class\n",
    "smote = SMOTE(random_state=42)\n",
    "X_train_resampled, y_train_resampled = smote.fit_resample(X_train_encoded, y_train)\n",
    "\n",
    "# Create a RandomForest classifier pipeline\n",
    "pipeline = Pipeline(steps=[\n",
    "    ('classifier', RandomForestClassifier(random_state=42, n_estimators=100, max_depth=10, class_weight='balanced', n_jobs=-1))\n",
    "])\n",
    "\n",
    "# Train the model with the resampled data\n",
    "pipeline.fit(X_train_resampled, y_train_resampled)\n",
    "\n",
    "# Predict and evaluate the model\n",
    "y_pred = pipeline.predict(X_test_encoded)\n",
    "print(classification_report(y_test, y_pred))"
   ]
  },
  {
   "cell_type": "markdown",
   "metadata": {},
   "source": [
    "### XGBOOST ALGORITHM\n"
   ]
  },
  {
   "cell_type": "code",
   "execution_count": 27,
   "metadata": {},
   "outputs": [],
   "source": [
    "import xgboost as xgb"
   ]
  },
  {
   "cell_type": "code",
   "execution_count": 30,
   "metadata": {},
   "outputs": [
    {
     "name": "stdout",
     "output_type": "stream",
     "text": [
      "              precision    recall  f1-score   support\n",
      "\n",
      "           0       1.00      1.00      1.00     80938\n",
      "           1       0.99      0.98      0.99       528\n",
      "\n",
      "    accuracy                           1.00     81466\n",
      "   macro avg       1.00      0.99      0.99     81466\n",
      "weighted avg       1.00      1.00      1.00     81466\n",
      "\n"
     ]
    }
   ],
   "source": [
    "X_train_encoded = preprocessor.fit_transform(X_train)\n",
    "X_test_encoded = preprocessor.transform(X_test)\n",
    "\n",
    "# Apply SMOTE to oversample the minority class\n",
    "smote = SMOTE(random_state=42)\n",
    "X_train_resampled, y_train_resampled = smote.fit_resample(X_train_encoded, y_train)\n",
    "\n",
    "# Create an XGBoost classifier pipeline\n",
    "pipeline = Pipeline(steps=[\n",
    "    ('classifier', xgb.XGBClassifier(random_state=42, scale_pos_weight=(y_train_resampled.value_counts()[0] / y_train_resampled.value_counts()[1])))\n",
    "])\n",
    "\n",
    "# Train the model with the resampled data\n",
    "pipeline.fit(X_train_resampled, y_train_resampled)\n",
    "\n",
    "# Predict and evaluate the model\n",
    "y_pred = pipeline.predict(X_test_encoded)\n",
    "report = classification_report(y_test, y_pred)\n",
    "print(report)"
   ]
  }
 ],
 "metadata": {
  "kernelspec": {
   "display_name": "Python 3",
   "language": "python",
   "name": "python3"
  },
  "language_info": {
   "codemirror_mode": {
    "name": "ipython",
    "version": 3
   },
   "file_extension": ".py",
   "mimetype": "text/x-python",
   "name": "python",
   "nbconvert_exporter": "python",
   "pygments_lexer": "ipython3",
   "version": "3.12.3"
  }
 },
 "nbformat": 4,
 "nbformat_minor": 2
}
